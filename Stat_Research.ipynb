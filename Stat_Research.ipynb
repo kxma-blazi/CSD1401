{
  "nbformat": 4,
  "nbformat_minor": 0,
  "metadata": {
    "colab": {
      "provenance": []
    },
    "kernelspec": {
      "name": "ir",
      "display_name": "R"
    },
    "language_info": {
      "name": "R"
    }
  },
  "cells": [
    {
      "cell_type": "code",
      "execution_count": null,
      "metadata": {
        "id": "hpyzXJfgVayk"
      },
      "outputs": [],
      "source": [
        "URL = \"https://docs.google.com/spreadsheets/d/e/2PACX-1vRiqgFiVkJXkoTuC4nnpbQ82HJuo4-7iArr3iM5yQNWQG21kUZCDKG8xjxlbQrZIiRLEMFuJOUjsmhF/pub?gid=259619426&single=true&output=csv\""
      ]
    },
    {
      "cell_type": "code",
      "source": [
        "mydata<-read.csv(URL)\n",
        "names(mydata)"
      ],
      "metadata": {
        "colab": {
          "base_uri": "https://localhost:8080/",
          "height": 52
        },
        "id": "mloaOyxcXDv8",
        "outputId": "ae7645a6-fa3a-49b5-a25b-d84dc96556a6"
      },
      "execution_count": null,
      "outputs": [
        {
          "output_type": "display_data",
          "data": {
            "text/html": [
              "<style>\n",
              ".list-inline {list-style: none; margin:0; padding: 0}\n",
              ".list-inline>li {display: inline-block}\n",
              ".list-inline>li:not(:last-child)::after {content: \"\\00b7\"; padding: 0 .5ex}\n",
              "</style>\n",
              "<ol class=list-inline><li>'ประทับเวลา'</li><li>'เพศ'</li><li>'ท.านสูบบุหรี.หรือไม.'</li><li>'ท.านดื.มสุราหรือไม.'</li><li>'โรคประจำตัว'</li><li>'ระดับความดันโลหิตของท.าน'</li><li>'ดัชนีมวลกายของท.าน'</li><li>'ระดับความเครียดของท.าน'</li></ol>\n"
            ],
            "text/markdown": "1. 'ประทับเวลา'\n2. 'เพศ'\n3. 'ท.านสูบบุหรี.หรือไม.'\n4. 'ท.านดื.มสุราหรือไม.'\n5. 'โรคประจำตัว'\n6. 'ระดับความดันโลหิตของท.าน'\n7. 'ดัชนีมวลกายของท.าน'\n8. 'ระดับความเครียดของท.าน'\n\n\n",
            "text/latex": "\\begin{enumerate*}\n\\item 'ประทับเวลา'\n\\item 'เพศ'\n\\item 'ท.านสูบบุหรี.หรือไม.'\n\\item 'ท.านดื.มสุราหรือไม.'\n\\item 'โรคประจำตัว'\n\\item 'ระดับความดันโลหิตของท.าน'\n\\item 'ดัชนีมวลกายของท.าน'\n\\item 'ระดับความเครียดของท.าน'\n\\end{enumerate*}\n",
            "text/plain": [
              "[1] \"ประทับเวลา\"             \"เพศ\"                   \"ท.านสูบบุหรี.หรือไม.\"     \n",
              "[4] \"ท.านดื.มสุราหรือไม.\"      \"โรคประจำตัว\"            \"ระดับความดันโลหิตของท.าน\"\n",
              "[7] \"ดัชนีมวลกายของท.าน\"      \"ระดับความเครียดของท.าน\" "
            ]
          },
          "metadata": {}
        }
      ]
    },
    {
      "cell_type": "code",
      "source": [
        "colnames(mydata)<-c(\"Time\",\"Sex\",\"cigaratte\",\"Drinking\",\"Disease\",\"Blood\",\"BMI\",\"Stress\")\n",
        "names(mydata)"
      ],
      "metadata": {
        "colab": {
          "base_uri": "https://localhost:8080/",
          "height": 34
        },
        "id": "Mzffo42QWrtN",
        "outputId": "c36f6a06-702d-4f9d-899b-54383f0d76c9"
      },
      "execution_count": null,
      "outputs": [
        {
          "output_type": "display_data",
          "data": {
            "text/html": [
              "<style>\n",
              ".list-inline {list-style: none; margin:0; padding: 0}\n",
              ".list-inline>li {display: inline-block}\n",
              ".list-inline>li:not(:last-child)::after {content: \"\\00b7\"; padding: 0 .5ex}\n",
              "</style>\n",
              "<ol class=list-inline><li>'Time'</li><li>'Sex'</li><li>'cigaratte'</li><li>'Drinking'</li><li>'Disease'</li><li>'Blood'</li><li>'BMI'</li><li>'Stress'</li></ol>\n"
            ],
            "text/markdown": "1. 'Time'\n2. 'Sex'\n3. 'cigaratte'\n4. 'Drinking'\n5. 'Disease'\n6. 'Blood'\n7. 'BMI'\n8. 'Stress'\n\n\n",
            "text/latex": "\\begin{enumerate*}\n\\item 'Time'\n\\item 'Sex'\n\\item 'cigaratte'\n\\item 'Drinking'\n\\item 'Disease'\n\\item 'Blood'\n\\item 'BMI'\n\\item 'Stress'\n\\end{enumerate*}\n",
            "text/plain": [
              "[1] \"Time\"      \"Sex\"       \"cigaratte\" \"Drinking\"  \"Disease\"   \"Blood\"    \n",
              "[7] \"BMI\"       \"Stress\"   "
            ]
          },
          "metadata": {}
        }
      ]
    },
    {
      "cell_type": "code",
      "source": [
        "head(mydata)"
      ],
      "metadata": {
        "colab": {
          "base_uri": "https://localhost:8080/",
          "height": 287
        },
        "id": "RRUo6FriXpwp",
        "outputId": "144b48f3-3cff-41aa-c98f-6bd021b58ec8"
      },
      "execution_count": null,
      "outputs": [
        {
          "output_type": "display_data",
          "data": {
            "text/html": [
              "<table class=\"dataframe\">\n",
              "<caption>A data.frame: 6 × 8</caption>\n",
              "<thead>\n",
              "\t<tr><th></th><th scope=col>Time</th><th scope=col>Sex</th><th scope=col>cigaratte</th><th scope=col>Drinking</th><th scope=col>Disease</th><th scope=col>Blood</th><th scope=col>BMI</th><th scope=col>Stress</th></tr>\n",
              "\t<tr><th></th><th scope=col>&lt;chr&gt;</th><th scope=col>&lt;chr&gt;</th><th scope=col>&lt;chr&gt;</th><th scope=col>&lt;chr&gt;</th><th scope=col>&lt;chr&gt;</th><th scope=col>&lt;chr&gt;</th><th scope=col>&lt;int&gt;</th><th scope=col>&lt;chr&gt;</th></tr>\n",
              "</thead>\n",
              "<tbody>\n",
              "\t<tr><th scope=row>1</th><td>26/7/2024, 11:38:05</td><td>ชาย</td><td>สูบบุหรี่  </td><td>ดื่มสุรา  </td><td>มี  </td><td>กลาง</td><td>10</td><td>ต่ำ  </td></tr>\n",
              "\t<tr><th scope=row>2</th><td>26/7/2024, 11:38:15</td><td>ชาย</td><td>สูบบุหรี่  </td><td>ดื่มสุรา  </td><td>มี  </td><td>ต่ำ  </td><td>14</td><td>กลาง</td></tr>\n",
              "\t<tr><th scope=row>3</th><td>26/7/2024, 11:38:26</td><td>หญิง</td><td>สูบบุหรี่  </td><td>ดื่มสุรา  </td><td>มี  </td><td>ต่ำ  </td><td>50</td><td>กลาง</td></tr>\n",
              "\t<tr><th scope=row>4</th><td>26/7/2024, 11:38:36</td><td>หญิง</td><td>ไม่สูบบุหรี่</td><td>ดื่มสุรา  </td><td>ไม่มี</td><td>ต่ำ  </td><td>40</td><td>กลาง</td></tr>\n",
              "\t<tr><th scope=row>5</th><td>26/7/2024, 11:38:49</td><td>ชาย</td><td>สูบบุหรี่  </td><td>ไม่ดื่มสุรา</td><td>ไม่มี</td><td>ต่ำ  </td><td>50</td><td>ต่ำ  </td></tr>\n",
              "\t<tr><th scope=row>6</th><td>26/7/2024, 11:39:08</td><td>ชาย</td><td>สูบบุหรี่  </td><td>ดื่มสุรา  </td><td>มี  </td><td>กลาง</td><td>10</td><td>สูง  </td></tr>\n",
              "</tbody>\n",
              "</table>\n"
            ],
            "text/markdown": "\nA data.frame: 6 × 8\n\n| <!--/--> | Time &lt;chr&gt; | Sex &lt;chr&gt; | cigaratte &lt;chr&gt; | Drinking &lt;chr&gt; | Disease &lt;chr&gt; | Blood &lt;chr&gt; | BMI &lt;int&gt; | Stress &lt;chr&gt; |\n|---|---|---|---|---|---|---|---|---|\n| 1 | 26/7/2024, 11:38:05 | ชาย | สูบบุหรี่   | ดื่มสุรา   | มี   | กลาง | 10 | ต่ำ   |\n| 2 | 26/7/2024, 11:38:15 | ชาย | สูบบุหรี่   | ดื่มสุรา   | มี   | ต่ำ   | 14 | กลาง |\n| 3 | 26/7/2024, 11:38:26 | หญิง | สูบบุหรี่   | ดื่มสุรา   | มี   | ต่ำ   | 50 | กลาง |\n| 4 | 26/7/2024, 11:38:36 | หญิง | ไม่สูบบุหรี่ | ดื่มสุรา   | ไม่มี | ต่ำ   | 40 | กลาง |\n| 5 | 26/7/2024, 11:38:49 | ชาย | สูบบุหรี่   | ไม่ดื่มสุรา | ไม่มี | ต่ำ   | 50 | ต่ำ   |\n| 6 | 26/7/2024, 11:39:08 | ชาย | สูบบุหรี่   | ดื่มสุรา   | มี   | กลาง | 10 | สูง   |\n\n",
            "text/latex": "A data.frame: 6 × 8\n\\begin{tabular}{r|llllllll}\n  & Time & Sex & cigaratte & Drinking & Disease & Blood & BMI & Stress\\\\\n  & <chr> & <chr> & <chr> & <chr> & <chr> & <chr> & <int> & <chr>\\\\\n\\hline\n\t1 & 26/7/2024, 11:38:05 & ชาย & สูบบุหรี่   & ดื่มสุรา   & มี   & กลาง & 10 & ต่ำ  \\\\\n\t2 & 26/7/2024, 11:38:15 & ชาย & สูบบุหรี่   & ดื่มสุรา   & มี   & ต่ำ   & 14 & กลาง\\\\\n\t3 & 26/7/2024, 11:38:26 & หญิง & สูบบุหรี่   & ดื่มสุรา   & มี   & ต่ำ   & 50 & กลาง\\\\\n\t4 & 26/7/2024, 11:38:36 & หญิง & ไม่สูบบุหรี่ & ดื่มสุรา   & ไม่มี & ต่ำ   & 40 & กลาง\\\\\n\t5 & 26/7/2024, 11:38:49 & ชาย & สูบบุหรี่   & ไม่ดื่มสุรา & ไม่มี & ต่ำ   & 50 & ต่ำ  \\\\\n\t6 & 26/7/2024, 11:39:08 & ชาย & สูบบุหรี่   & ดื่มสุรา   & มี   & กลาง & 10 & สูง  \\\\\n\\end{tabular}\n",
            "text/plain": [
              "  Time                Sex cigaratte Drinking Disease Blood BMI Stress\n",
              "1 26/7/2024, 11:38:05 ชาย สูบบุหรี่     ดื่มสุรา    มี       กลาง  10  ต่ำ    \n",
              "2 26/7/2024, 11:38:15 ชาย สูบบุหรี่     ดื่มสุรา    มี       ต่ำ    14  กลาง  \n",
              "3 26/7/2024, 11:38:26 หญิง สูบบุหรี่     ดื่มสุรา    มี       ต่ำ    50  กลาง  \n",
              "4 26/7/2024, 11:38:36 หญิง ไม่สูบบุหรี่   ดื่มสุรา    ไม่มี     ต่ำ    40  กลาง  \n",
              "5 26/7/2024, 11:38:49 ชาย สูบบุหรี่     ไม่ดื่มสุรา  ไม่มี     ต่ำ    50  ต่ำ    \n",
              "6 26/7/2024, 11:39:08 ชาย สูบบุหรี่     ดื่มสุรา    มี       กลาง  10  สูง    "
            ]
          },
          "metadata": {}
        }
      ]
    },
    {
      "cell_type": "code",
      "source": [
        "# เเปลง mydataSex ให้เป็นชาย หญิง\n",
        "mydata$Sex[mydata$Sex==\"ชาย\"]<-1\n",
        "mydata$Sex[mydata$Sex==\"หญิง\"]<-0"
      ],
      "metadata": {
        "id": "r0eo8tKVZdaj"
      },
      "execution_count": null,
      "outputs": []
    },
    {
      "cell_type": "code",
      "source": [
        "mydata$cigaratte[mydata$cigaratte==\"สูบบุหรี่\"]<-1\n",
        "mydata$cigaratte[mydata$cigaratte==\"ไม่สูบบุหรี่\"]<-0"
      ],
      "metadata": {
        "id": "lvJ7aLvzaGno"
      },
      "execution_count": null,
      "outputs": []
    },
    {
      "cell_type": "code",
      "source": [
        "mydata$Drinking[mydata$Drinking==\"ดื่มสุรา\"]<-1\n",
        "mydata$Drinking[mydata$Drinking==\"ไม่ดื่มสุรา\"]<-0"
      ],
      "metadata": {
        "id": "NTFRQ3vJcJ56"
      },
      "execution_count": null,
      "outputs": []
    },
    {
      "cell_type": "code",
      "source": [
        "mydata$Disease[mydata$Disease==\"มี\"]<-1\n",
        "mydata$Disease[mydata$Disease==\"ไม่มี\"]<-0"
      ],
      "metadata": {
        "id": "vu7Ht-rhcJ9J"
      },
      "execution_count": null,
      "outputs": []
    },
    {
      "cell_type": "code",
      "source": [
        "mydata$ฺBlood[mydata$Blood==\"สูง\"]<-2\n",
        "mydata$ฺBlood[mydata$Blood==\"กลาง\"]<-1\n",
        "mydata$ฺBlood[mydata$Blood==\"ต่ำ\"]<-0"
      ],
      "metadata": {
        "id": "epQadiPBdsJE"
      },
      "execution_count": null,
      "outputs": []
    },
    {
      "cell_type": "code",
      "source": [
        "mydata$Stress[mydata$Stress==\"สูง\"]<-2\n",
        "mydata$Stress[mydata$Stress==\"กลาง\"]<-1\n",
        "mydata$Stress[mydata$Stress==\"ต่ำ\"]<-0"
      ],
      "metadata": {
        "id": "_3Z4eTu2cJ_b"
      },
      "execution_count": null,
      "outputs": []
    },
    {
      "cell_type": "code",
      "source": [
        "head(mydata)"
      ],
      "metadata": {
        "colab": {
          "base_uri": "https://localhost:8080/",
          "height": 287
        },
        "id": "gd6i5747aUMb",
        "outputId": "c417ee44-d854-4f28-e21b-cd65d9ad7920"
      },
      "execution_count": null,
      "outputs": [
        {
          "output_type": "display_data",
          "data": {
            "text/html": [
              "<table class=\"dataframe\">\n",
              "<caption>A data.frame: 6 × 9</caption>\n",
              "<thead>\n",
              "\t<tr><th></th><th scope=col>Time</th><th scope=col>Sex</th><th scope=col>cigaratte</th><th scope=col>Drinking</th><th scope=col>Disease</th><th scope=col>Blood</th><th scope=col>BMI</th><th scope=col>Stress</th><th scope=col>ฺBlood</th></tr>\n",
              "\t<tr><th></th><th scope=col>&lt;chr&gt;</th><th scope=col>&lt;chr&gt;</th><th scope=col>&lt;chr&gt;</th><th scope=col>&lt;chr&gt;</th><th scope=col>&lt;chr&gt;</th><th scope=col>&lt;chr&gt;</th><th scope=col>&lt;int&gt;</th><th scope=col>&lt;chr&gt;</th><th scope=col>&lt;dbl&gt;</th></tr>\n",
              "</thead>\n",
              "<tbody>\n",
              "\t<tr><th scope=row>1</th><td>26/7/2024, 11:38:05</td><td>1</td><td>1</td><td>1</td><td>1</td><td>กลาง</td><td>10</td><td>0</td><td>1</td></tr>\n",
              "\t<tr><th scope=row>2</th><td>26/7/2024, 11:38:15</td><td>1</td><td>1</td><td>1</td><td>1</td><td>ต่ำ  </td><td>14</td><td>1</td><td>0</td></tr>\n",
              "\t<tr><th scope=row>3</th><td>26/7/2024, 11:38:26</td><td>0</td><td>1</td><td>1</td><td>1</td><td>ต่ำ  </td><td>50</td><td>1</td><td>0</td></tr>\n",
              "\t<tr><th scope=row>4</th><td>26/7/2024, 11:38:36</td><td>0</td><td>0</td><td>1</td><td>0</td><td>ต่ำ  </td><td>40</td><td>1</td><td>0</td></tr>\n",
              "\t<tr><th scope=row>5</th><td>26/7/2024, 11:38:49</td><td>1</td><td>1</td><td>0</td><td>0</td><td>ต่ำ  </td><td>50</td><td>0</td><td>0</td></tr>\n",
              "\t<tr><th scope=row>6</th><td>26/7/2024, 11:39:08</td><td>1</td><td>1</td><td>1</td><td>1</td><td>กลาง</td><td>10</td><td>2</td><td>1</td></tr>\n",
              "</tbody>\n",
              "</table>\n"
            ],
            "text/markdown": "\nA data.frame: 6 × 9\n\n| <!--/--> | Time &lt;chr&gt; | Sex &lt;chr&gt; | cigaratte &lt;chr&gt; | Drinking &lt;chr&gt; | Disease &lt;chr&gt; | Blood &lt;chr&gt; | BMI &lt;int&gt; | Stress &lt;chr&gt; | ฺBlood &lt;dbl&gt; |\n|---|---|---|---|---|---|---|---|---|---|\n| 1 | 26/7/2024, 11:38:05 | 1 | 1 | 1 | 1 | กลาง | 10 | 0 | 1 |\n| 2 | 26/7/2024, 11:38:15 | 1 | 1 | 1 | 1 | ต่ำ   | 14 | 1 | 0 |\n| 3 | 26/7/2024, 11:38:26 | 0 | 1 | 1 | 1 | ต่ำ   | 50 | 1 | 0 |\n| 4 | 26/7/2024, 11:38:36 | 0 | 0 | 1 | 0 | ต่ำ   | 40 | 1 | 0 |\n| 5 | 26/7/2024, 11:38:49 | 1 | 1 | 0 | 0 | ต่ำ   | 50 | 0 | 0 |\n| 6 | 26/7/2024, 11:39:08 | 1 | 1 | 1 | 1 | กลาง | 10 | 2 | 1 |\n\n",
            "text/latex": "A data.frame: 6 × 9\n\\begin{tabular}{r|lllllllll}\n  & Time & Sex & cigaratte & Drinking & Disease & Blood & BMI & Stress & ฺBlood\\\\\n  & <chr> & <chr> & <chr> & <chr> & <chr> & <chr> & <int> & <chr> & <dbl>\\\\\n\\hline\n\t1 & 26/7/2024, 11:38:05 & 1 & 1 & 1 & 1 & กลาง & 10 & 0 & 1\\\\\n\t2 & 26/7/2024, 11:38:15 & 1 & 1 & 1 & 1 & ต่ำ   & 14 & 1 & 0\\\\\n\t3 & 26/7/2024, 11:38:26 & 0 & 1 & 1 & 1 & ต่ำ   & 50 & 1 & 0\\\\\n\t4 & 26/7/2024, 11:38:36 & 0 & 0 & 1 & 0 & ต่ำ   & 40 & 1 & 0\\\\\n\t5 & 26/7/2024, 11:38:49 & 1 & 1 & 0 & 0 & ต่ำ   & 50 & 0 & 0\\\\\n\t6 & 26/7/2024, 11:39:08 & 1 & 1 & 1 & 1 & กลาง & 10 & 2 & 1\\\\\n\\end{tabular}\n",
            "text/plain": [
              "  Time                Sex cigaratte Drinking Disease Blood BMI Stress ฺBlood\n",
              "1 26/7/2024, 11:38:05 1   1         1        1       กลาง  10  0      1    \n",
              "2 26/7/2024, 11:38:15 1   1         1        1       ต่ำ    14  1      0    \n",
              "3 26/7/2024, 11:38:26 0   1         1        1       ต่ำ    50  1      0    \n",
              "4 26/7/2024, 11:38:36 0   0         1        0       ต่ำ    40  1      0    \n",
              "5 26/7/2024, 11:38:49 1   1         0        0       ต่ำ    50  0      0    \n",
              "6 26/7/2024, 11:39:08 1   1         1        1       กลาง  10  2      1    "
            ]
          },
          "metadata": {}
        }
      ]
    },
    {
      "cell_type": "markdown",
      "source": [
        "plot graph"
      ],
      "metadata": {
        "id": "A67k0G5cB7cN"
      }
    },
    {
      "cell_type": "code",
      "source": [
        "table(mydata$Sex)"
      ],
      "metadata": {
        "colab": {
          "base_uri": "https://localhost:8080/",
          "height": 69
        },
        "id": "pbLNRwJkB7Cd",
        "outputId": "719922ff-b88f-4012-828e-c0ffcf78aebe"
      },
      "execution_count": null,
      "outputs": [
        {
          "output_type": "display_data",
          "data": {
            "text/plain": [
              "\n",
              "0 1 \n",
              "3 7 "
            ]
          },
          "metadata": {}
        }
      ]
    },
    {
      "cell_type": "code",
      "source": [
        "prop.table(table(mydata$Sex))"
      ],
      "metadata": {
        "colab": {
          "base_uri": "https://localhost:8080/",
          "height": 69
        },
        "id": "Vc55pacNMWap",
        "outputId": "5de3cbb4-a2b6-49f4-a6c4-3332f1190009"
      },
      "execution_count": null,
      "outputs": [
        {
          "output_type": "display_data",
          "data": {
            "text/plain": [
              "\n",
              "  0   1 \n",
              "0.3 0.7 "
            ]
          },
          "metadata": {}
        }
      ]
    },
    {
      "cell_type": "code",
      "source": [
        "table(mydata$Blood)"
      ],
      "metadata": {
        "colab": {
          "base_uri": "https://localhost:8080/",
          "height": 69
        },
        "id": "kNPZeCpKQVHR",
        "outputId": "f218aff1-f15a-488f-9d46-c5cde2c322f8"
      },
      "execution_count": null,
      "outputs": [
        {
          "output_type": "display_data",
          "data": {
            "text/plain": [
              "\n",
              "กลาง   ต่ำ \n",
              "   3    7 "
            ]
          },
          "metadata": {}
        }
      ]
    },
    {
      "cell_type": "code",
      "source": [
        "prop.table(table(mydata$Blood))"
      ],
      "metadata": {
        "colab": {
          "base_uri": "https://localhost:8080/",
          "height": 69
        },
        "id": "2bchB8OGR4Zh",
        "outputId": "3a826504-e92a-4471-d72c-991b562e481d"
      },
      "execution_count": null,
      "outputs": [
        {
          "output_type": "display_data",
          "data": {
            "text/plain": [
              "\n",
              "กลาง   ต่ำ \n",
              " 0.3  0.7 "
            ]
          },
          "metadata": {}
        }
      ]
    },
    {
      "cell_type": "code",
      "source": [
        "table(mydata$Stress)"
      ],
      "metadata": {
        "colab": {
          "base_uri": "https://localhost:8080/",
          "height": 69
        },
        "id": "XytCz9OpS3o5",
        "outputId": "6ed52081-080a-4875-c163-b4a22e5ae057"
      },
      "execution_count": null,
      "outputs": [
        {
          "output_type": "display_data",
          "data": {
            "text/plain": [
              "\n",
              "0 1 2 \n",
              "2 5 3 "
            ]
          },
          "metadata": {}
        }
      ]
    },
    {
      "cell_type": "code",
      "source": [
        "prop.table(table(mydata$Stress))"
      ],
      "metadata": {
        "colab": {
          "base_uri": "https://localhost:8080/",
          "height": 69
        },
        "id": "iW6QUQ8nS9TY",
        "outputId": "e6f4f734-db7d-4789-fccc-bbf7bc4cd122"
      },
      "execution_count": null,
      "outputs": [
        {
          "output_type": "display_data",
          "data": {
            "text/plain": [
              "\n",
              "  0   1   2 \n",
              "0.2 0.5 0.3 "
            ]
          },
          "metadata": {}
        }
      ]
    },
    {
      "cell_type": "code",
      "source": [
        "tblFun <- function(x){\n",
        "    tbl <- table(x)\n",
        "    res <- cbind(tbl,round(prop.table(tbl)*100,2))\n",
        "    colnames(res) <- c('Count','Percentage')\n",
        "    res\n",
        "}"
      ],
      "metadata": {
        "id": "AACjKlnyObCa"
      },
      "execution_count": null,
      "outputs": []
    },
    {
      "cell_type": "code",
      "source": [
        "tblFun(mydata$Blood)"
      ],
      "metadata": {
        "colab": {
          "base_uri": "https://localhost:8080/",
          "height": 130
        },
        "id": "dDeqQuwNTesG",
        "outputId": "cd273110-9fbe-4c18-f0ad-2e5d4b1d3683"
      },
      "execution_count": null,
      "outputs": [
        {
          "output_type": "display_data",
          "data": {
            "text/html": [
              "<table class=\"dataframe\">\n",
              "<caption>A matrix: 2 × 2 of type dbl</caption>\n",
              "<thead>\n",
              "\t<tr><th></th><th scope=col>Count</th><th scope=col>Percentage</th></tr>\n",
              "</thead>\n",
              "<tbody>\n",
              "\t<tr><th scope=row>กลาง</th><td>3</td><td>30</td></tr>\n",
              "\t<tr><th scope=row>ต่ำ</th><td>7</td><td>70</td></tr>\n",
              "</tbody>\n",
              "</table>\n"
            ],
            "text/markdown": "\nA matrix: 2 × 2 of type dbl\n\n| <!--/--> | Count | Percentage |\n|---|---|---|\n| กลาง | 3 | 30 |\n| ต่ำ | 7 | 70 |\n\n",
            "text/latex": "A matrix: 2 × 2 of type dbl\n\\begin{tabular}{r|ll}\n  & Count & Percentage\\\\\n\\hline\n\tกลาง & 3 & 30\\\\\n\tต่ำ & 7 & 70\\\\\n\\end{tabular}\n",
            "text/plain": [
              "     Count Percentage\n",
              "กลาง 3     30        \n",
              "ต่ำ   7     70        "
            ]
          },
          "metadata": {}
        }
      ]
    },
    {
      "cell_type": "code",
      "source": [
        "tblFun(mydata$Stress)"
      ],
      "metadata": {
        "colab": {
          "base_uri": "https://localhost:8080/",
          "height": 161
        },
        "id": "HfDIdy1PQwT6",
        "outputId": "8c968a9d-89ba-4057-b4b0-8d3504ea3e7f"
      },
      "execution_count": null,
      "outputs": [
        {
          "output_type": "display_data",
          "data": {
            "text/html": [
              "<table class=\"dataframe\">\n",
              "<caption>A matrix: 3 × 2 of type dbl</caption>\n",
              "<thead>\n",
              "\t<tr><th></th><th scope=col>Count</th><th scope=col>Percentage</th></tr>\n",
              "</thead>\n",
              "<tbody>\n",
              "\t<tr><th scope=row>0</th><td>2</td><td>20</td></tr>\n",
              "\t<tr><th scope=row>1</th><td>5</td><td>50</td></tr>\n",
              "\t<tr><th scope=row>2</th><td>3</td><td>30</td></tr>\n",
              "</tbody>\n",
              "</table>\n"
            ],
            "text/markdown": "\nA matrix: 3 × 2 of type dbl\n\n| <!--/--> | Count | Percentage |\n|---|---|---|\n| 0 | 2 | 20 |\n| 1 | 5 | 50 |\n| 2 | 3 | 30 |\n\n",
            "text/latex": "A matrix: 3 × 2 of type dbl\n\\begin{tabular}{r|ll}\n  & Count & Percentage\\\\\n\\hline\n\t0 & 2 & 20\\\\\n\t1 & 5 & 50\\\\\n\t2 & 3 & 30\\\\\n\\end{tabular}\n",
            "text/plain": [
              "  Count Percentage\n",
              "0 2     20        \n",
              "1 5     50        \n",
              "2 3     30        "
            ]
          },
          "metadata": {}
        }
      ]
    },
    {
      "cell_type": "code",
      "source": [
        "# Simple Pie Chart\n",
        "Data <- table(mydata$Blood)\n",
        "lbls <- c(\"Hight\", \"Middle\", \"Low\")\n",
        "pie(Data, lables = lbls, main=\"Pie Chart\")"
      ],
      "metadata": {
        "colab": {
          "base_uri": "https://localhost:8080/",
          "height": 541
        },
        "id": "bQdlqtFrPo7q",
        "outputId": "0c363bf0-9976-42c6-80cd-7a2bfed247fc"
      },
      "execution_count": null,
      "outputs": [
        {
          "output_type": "stream",
          "name": "stderr",
          "text": [
            "Warning message in text.default(1.1 * P$x, 1.1 * P$y, labels[i], xpd = TRUE, adj = ifelse(P$x < :\n",
            "“\"lables\" is not a graphical parameter”\n",
            "Warning message in text.default(1.1 * P$x, 1.1 * P$y, labels[i], xpd = TRUE, adj = ifelse(P$x < :\n",
            "“\"lables\" is not a graphical parameter”\n",
            "Warning message in title(main = main, ...):\n",
            "“\"lables\" is not a graphical parameter”\n"
          ]
        },
        {
          "output_type": "display_data",
          "data": {
            "text/plain": [
              "Plot with title “Pie Chart”"
            ],
            "image/png": "[encoded data removed]"
          },
          "metadata": {
            "image/png": {
              "width": 420,
              "height": 420
            }
          }
        }
      ]
    },
    {
      "cell_type": "code",
      "source": [
        "# Bar Chart\n",
        "# Create the data for the chart\n",
        "Data <- table(mydata$Stress)\n",
        "lbls <- c(\"Low\", \"Middle\", \"High\")\n",
        "\n",
        "# Plot the bar chart with text features\n",
        "barplot(Data, names.arg = lbls, xlab = \"Level\",\n",
        "        ylab = \"Count\", col = \"steelblue\",\n",
        "        main = \"Bar Chart\",\n",
        "        cex.main = 1.5, cex.lab = 1.2, cex.axis = 1.1)"
      ],
      "metadata": {
        "colab": {
          "base_uri": "https://localhost:8080/",
          "height": 437
        },
        "id": "a66AETFYTn8n",
        "outputId": "3574b7f3-e551-401c-d382-d7c729e7c31a"
      },
      "execution_count": null,
      "outputs": [
        {
          "output_type": "display_data",
          "data": {
            "text/plain": [
              "Plot with title “Bar Chart”"
            ],
            "image/png": "[encoded data removed]"
          },
          "metadata": {
            "image/png": {
              "width": 420,
              "height": 420
            }
          }
        }
      ]
    },
    {
      "cell_type": "code",
      "source": [
        "Data <- table(mydata$Stress)\n",
        "lbls <- c(\"Hight\", \"Middle\", \"Low\")\n",
        "pie(Data, lables = lbls, main=\"Pie Chart\")"
      ],
      "metadata": {
        "colab": {
          "base_uri": "https://localhost:8080/",
          "height": 576
        },
        "id": "YGxZ7JQdUQDr",
        "outputId": "f8a06f84-7914-44ad-e72c-32dd43bbce13"
      },
      "execution_count": null,
      "outputs": [
        {
          "output_type": "stream",
          "name": "stderr",
          "text": [
            "Warning message in text.default(1.1 * P$x, 1.1 * P$y, labels[i], xpd = TRUE, adj = ifelse(P$x < :\n",
            "“\"lables\" is not a graphical parameter”\n",
            "Warning message in text.default(1.1 * P$x, 1.1 * P$y, labels[i], xpd = TRUE, adj = ifelse(P$x < :\n",
            "“\"lables\" is not a graphical parameter”\n",
            "Warning message in text.default(1.1 * P$x, 1.1 * P$y, labels[i], xpd = TRUE, adj = ifelse(P$x < :\n",
            "“\"lables\" is not a graphical parameter”\n",
            "Warning message in title(main = main, ...):\n",
            "“\"lables\" is not a graphical parameter”\n"
          ]
        },
        {
          "output_type": "display_data",
          "data": {
            "text/plain": [
              "Plot with title “Pie Chart”"
            ],
            "image/png": "[encoded data removed]"
          },
          "metadata": {
            "image/png": {
              "width": 420,
              "height": 420
            }
          }
        }
      ]
    },
    {
      "cell_type": "code",
      "source": [
        "# Histograms\n",
        "# Create the data for the chart.\n",
        "Data <- as.numeric(mydata$BMI)\n",
        "\n",
        "# Plot the Histograms\n",
        "hist(Data)"
      ],
      "metadata": {
        "colab": {
          "base_uri": "https://localhost:8080/",
          "height": 437
        },
        "id": "8QzEOqqbUrAr",
        "outputId": "7aae89e7-6cdb-4479-d9b8-be8f8f75f0bc"
      },
      "execution_count": null,
      "outputs": [
        {
          "output_type": "display_data",
          "data": {
            "text/plain": [
              "Plot with title “Histogram of Data”"
            ],
            "image/png": "[encoded data removed]"
          },
          "metadata": {
            "image/png": {
              "width": 420,
              "height": 420
            }
          }
        }
      ]
    },
    {
      "cell_type": "markdown",
      "source": [
        "Probability ความน่าจะเป็น"
      ],
      "metadata": {
        "id": "ryCOSqcZHlXc"
      }
    },
    {
      "cell_type": "code",
      "source": [
        "prop.table(table(mydata$Sex))"
      ],
      "metadata": {
        "colab": {
          "base_uri": "https://localhost:8080/",
          "height": 69
        },
        "id": "7t0bYUTKHr1B",
        "outputId": "3018e394-8d17-41cf-f20a-9b32dac194b8"
      },
      "execution_count": null,
      "outputs": [
        {
          "output_type": "display_data",
          "data": {
            "text/plain": [
              "\n",
              "  0   1 \n",
              "0.3 0.7 "
            ]
          },
          "metadata": {}
        }
      ]
    },
    {
      "cell_type": "code",
      "source": [
        "names(mydata)"
      ],
      "metadata": {
        "colab": {
          "base_uri": "https://localhost:8080/",
          "height": 34
        },
        "id": "ul3_JT5oH0mK",
        "outputId": "b6567026-a14f-451c-d9c6-0476fc2dafc9"
      },
      "execution_count": null,
      "outputs": [
        {
          "output_type": "display_data",
          "data": {
            "text/html": [
              "<style>\n",
              ".list-inline {list-style: none; margin:0; padding: 0}\n",
              ".list-inline>li {display: inline-block}\n",
              ".list-inline>li:not(:last-child)::after {content: \"\\00b7\"; padding: 0 .5ex}\n",
              "</style>\n",
              "<ol class=list-inline><li>'Time'</li><li>'Sex'</li><li>'cigaratte'</li><li>'Drinking'</li><li>'Disease'</li><li>'Blood'</li><li>'BMI'</li><li>'Stress'</li><li>'ฺBlood'</li></ol>\n"
            ],
            "text/markdown": "1. 'Time'\n2. 'Sex'\n3. 'cigaratte'\n4. 'Drinking'\n5. 'Disease'\n6. 'Blood'\n7. 'BMI'\n8. 'Stress'\n9. 'ฺBlood'\n\n\n",
            "text/latex": "\\begin{enumerate*}\n\\item 'Time'\n\\item 'Sex'\n\\item 'cigaratte'\n\\item 'Drinking'\n\\item 'Disease'\n\\item 'Blood'\n\\item 'BMI'\n\\item 'Stress'\n\\item 'ฺBlood'\n\\end{enumerate*}\n",
            "text/plain": [
              "[1] \"Time\"      \"Sex\"       \"cigaratte\" \"Drinking\"  \"Disease\"   \"Blood\"    \n",
              "[7] \"BMI\"       \"Stress\"    \"ฺBlood\"    "
            ]
          },
          "metadata": {}
        }
      ]
    },
    {
      "cell_type": "code",
      "source": [
        "prop.table(table(mydata$Cigarette))"
      ],
      "metadata": {
        "colab": {
          "base_uri": "https://localhost:8080/",
          "height": 17
        },
        "id": "RuwKYbSAIZh1",
        "outputId": "bfc2530b-15fb-498b-f507-4070ce5ecb91"
      },
      "execution_count": null,
      "outputs": [
        {
          "output_type": "display_data",
          "data": {
            "text/html": [],
            "text/markdown": "",
            "text/latex": "",
            "text/plain": [
              "numeric(0)"
            ]
          },
          "metadata": {}
        }
      ]
    },
    {
      "cell_type": "markdown",
      "source": [
        "\n",
        "\n",
        "---\n",
        "\n"
      ],
      "metadata": {
        "id": "RGFO8HMXp_Gv"
      }
    },
    {
      "cell_type": "markdown",
      "source": [
        "**ครั้งที่ 12**"
      ],
      "metadata": {
        "id": "rTcDR6GBaCUi"
      }
    },
    {
      "cell_type": "code",
      "source": [
        "names(mydata) # เช็คตัวตัวเเปร"
      ],
      "metadata": {
        "colab": {
          "base_uri": "https://localhost:8080/",
          "height": 34
        },
        "id": "x9gVftnbqKCH",
        "outputId": "8a6175d0-69d2-4240-f86c-0599231e3d85"
      },
      "execution_count": null,
      "outputs": [
        {
          "output_type": "display_data",
          "data": {
            "text/html": [
              "<style>\n",
              ".list-inline {list-style: none; margin:0; padding: 0}\n",
              ".list-inline>li {display: inline-block}\n",
              ".list-inline>li:not(:last-child)::after {content: \"\\00b7\"; padding: 0 .5ex}\n",
              "</style>\n",
              "<ol class=list-inline><li>'Time'</li><li>'Sex'</li><li>'cigaratte'</li><li>'Drinking'</li><li>'Disease'</li><li>'Blood'</li><li>'BMI'</li><li>'Stress'</li><li>'ฺBlood'</li></ol>\n"
            ],
            "text/markdown": "1. 'Time'\n2. 'Sex'\n3. 'cigaratte'\n4. 'Drinking'\n5. 'Disease'\n6. 'Blood'\n7. 'BMI'\n8. 'Stress'\n9. 'ฺBlood'\n\n\n",
            "text/latex": "\\begin{enumerate*}\n\\item 'Time'\n\\item 'Sex'\n\\item 'cigaratte'\n\\item 'Drinking'\n\\item 'Disease'\n\\item 'Blood'\n\\item 'BMI'\n\\item 'Stress'\n\\item 'ฺBlood'\n\\end{enumerate*}\n",
            "text/plain": [
              "[1] \"Time\"      \"Sex\"       \"cigaratte\" \"Drinking\"  \"Disease\"   \"Blood\"    \n",
              "[7] \"BMI\"       \"Stress\"    \"ฺBlood\"    "
            ]
          },
          "metadata": {}
        }
      ]
    },
    {
      "cell_type": "code",
      "source": [
        "### Interval Estimation\n",
        "t.test(mydata$BMI,conf.level = 0.90) # ค่าความน่าเชื่อถือ"
      ],
      "metadata": {
        "colab": {
          "base_uri": "https://localhost:8080/",
          "height": 208
        },
        "id": "Rdn0XWvSqACd",
        "outputId": "173ba365-6b6d-4ad2-f18a-955e28574b48"
      },
      "execution_count": null,
      "outputs": [
        {
          "output_type": "display_data",
          "data": {
            "text/plain": [
              "\n",
              "\tOne Sample t-test\n",
              "\n",
              "data:  mydata$BMI\n",
              "t = 5.5009, df = 9, p-value = 0.0003797\n",
              "alternative hypothesis: true mean is not equal to 0\n",
              "90 percent confidence interval:\n",
              " 25.00357 49.99643\n",
              "sample estimates:\n",
              "mean of x \n",
              "     37.5 \n"
            ]
          },
          "metadata": {}
        }
      ]
    },
    {
      "cell_type": "code",
      "source": [
        "t.test(as.numeric(mydata$BMI),conf.level = 0.95)"
      ],
      "metadata": {
        "colab": {
          "base_uri": "https://localhost:8080/",
          "height": 208
        },
        "id": "srjhyda5qOhs",
        "outputId": "a58178dd-f7a2-457a-d45c-1b3e3d8bcdcb"
      },
      "execution_count": null,
      "outputs": [
        {
          "output_type": "display_data",
          "data": {
            "text/plain": [
              "\n",
              "\tOne Sample t-test\n",
              "\n",
              "data:  as.numeric(mydata$BMI)\n",
              "t = 5.5009, df = 9, p-value = 0.0003797\n",
              "alternative hypothesis: true mean is not equal to 0\n",
              "95 percent confidence interval:\n",
              " 22.07875 52.92125\n",
              "sample estimates:\n",
              "mean of x \n",
              "     37.5 \n"
            ]
          },
          "metadata": {}
        }
      ]
    },
    {
      "cell_type": "code",
      "source": [
        "head(mydata)"
      ],
      "metadata": {
        "colab": {
          "base_uri": "https://localhost:8080/",
          "height": 287
        },
        "id": "viBzya-wvEno",
        "outputId": "767bf8bf-9b56-4f8f-cf69-d949099882ad"
      },
      "execution_count": null,
      "outputs": [
        {
          "output_type": "display_data",
          "data": {
            "text/html": [
              "<table class=\"dataframe\">\n",
              "<caption>A data.frame: 6 × 9</caption>\n",
              "<thead>\n",
              "\t<tr><th></th><th scope=col>Time</th><th scope=col>Sex</th><th scope=col>cigaratte</th><th scope=col>Drinking</th><th scope=col>Disease</th><th scope=col>Blood</th><th scope=col>BMI</th><th scope=col>Stress</th><th scope=col>ฺBlood</th></tr>\n",
              "\t<tr><th></th><th scope=col>&lt;chr&gt;</th><th scope=col>&lt;chr&gt;</th><th scope=col>&lt;chr&gt;</th><th scope=col>&lt;chr&gt;</th><th scope=col>&lt;chr&gt;</th><th scope=col>&lt;chr&gt;</th><th scope=col>&lt;int&gt;</th><th scope=col>&lt;chr&gt;</th><th scope=col>&lt;dbl&gt;</th></tr>\n",
              "</thead>\n",
              "<tbody>\n",
              "\t<tr><th scope=row>1</th><td>26/7/2024, 11:38:05</td><td>1</td><td>1</td><td>1</td><td>1</td><td>กลาง</td><td>10</td><td>0</td><td>1</td></tr>\n",
              "\t<tr><th scope=row>2</th><td>26/7/2024, 11:38:15</td><td>1</td><td>1</td><td>1</td><td>1</td><td>ต่ำ  </td><td>14</td><td>1</td><td>0</td></tr>\n",
              "\t<tr><th scope=row>3</th><td>26/7/2024, 11:38:26</td><td>0</td><td>1</td><td>1</td><td>1</td><td>ต่ำ  </td><td>50</td><td>1</td><td>0</td></tr>\n",
              "\t<tr><th scope=row>4</th><td>26/7/2024, 11:38:36</td><td>0</td><td>0</td><td>1</td><td>0</td><td>ต่ำ  </td><td>40</td><td>1</td><td>0</td></tr>\n",
              "\t<tr><th scope=row>5</th><td>26/7/2024, 11:38:49</td><td>1</td><td>1</td><td>0</td><td>0</td><td>ต่ำ  </td><td>50</td><td>0</td><td>0</td></tr>\n",
              "\t<tr><th scope=row>6</th><td>26/7/2024, 11:39:08</td><td>1</td><td>1</td><td>1</td><td>1</td><td>กลาง</td><td>10</td><td>2</td><td>1</td></tr>\n",
              "</tbody>\n",
              "</table>\n"
            ],
            "text/markdown": "\nA data.frame: 6 × 9\n\n| <!--/--> | Time &lt;chr&gt; | Sex &lt;chr&gt; | cigaratte &lt;chr&gt; | Drinking &lt;chr&gt; | Disease &lt;chr&gt; | Blood &lt;chr&gt; | BMI &lt;int&gt; | Stress &lt;chr&gt; | ฺBlood &lt;dbl&gt; |\n|---|---|---|---|---|---|---|---|---|---|\n| 1 | 26/7/2024, 11:38:05 | 1 | 1 | 1 | 1 | กลาง | 10 | 0 | 1 |\n| 2 | 26/7/2024, 11:38:15 | 1 | 1 | 1 | 1 | ต่ำ   | 14 | 1 | 0 |\n| 3 | 26/7/2024, 11:38:26 | 0 | 1 | 1 | 1 | ต่ำ   | 50 | 1 | 0 |\n| 4 | 26/7/2024, 11:38:36 | 0 | 0 | 1 | 0 | ต่ำ   | 40 | 1 | 0 |\n| 5 | 26/7/2024, 11:38:49 | 1 | 1 | 0 | 0 | ต่ำ   | 50 | 0 | 0 |\n| 6 | 26/7/2024, 11:39:08 | 1 | 1 | 1 | 1 | กลาง | 10 | 2 | 1 |\n\n",
            "text/latex": "A data.frame: 6 × 9\n\\begin{tabular}{r|lllllllll}\n  & Time & Sex & cigaratte & Drinking & Disease & Blood & BMI & Stress & ฺBlood\\\\\n  & <chr> & <chr> & <chr> & <chr> & <chr> & <chr> & <int> & <chr> & <dbl>\\\\\n\\hline\n\t1 & 26/7/2024, 11:38:05 & 1 & 1 & 1 & 1 & กลาง & 10 & 0 & 1\\\\\n\t2 & 26/7/2024, 11:38:15 & 1 & 1 & 1 & 1 & ต่ำ   & 14 & 1 & 0\\\\\n\t3 & 26/7/2024, 11:38:26 & 0 & 1 & 1 & 1 & ต่ำ   & 50 & 1 & 0\\\\\n\t4 & 26/7/2024, 11:38:36 & 0 & 0 & 1 & 0 & ต่ำ   & 40 & 1 & 0\\\\\n\t5 & 26/7/2024, 11:38:49 & 1 & 1 & 0 & 0 & ต่ำ   & 50 & 0 & 0\\\\\n\t6 & 26/7/2024, 11:39:08 & 1 & 1 & 1 & 1 & กลาง & 10 & 2 & 1\\\\\n\\end{tabular}\n",
            "text/plain": [
              "  Time                Sex cigaratte Drinking Disease Blood BMI Stress ฺBlood\n",
              "1 26/7/2024, 11:38:05 1   1         1        1       กลาง  10  0      1    \n",
              "2 26/7/2024, 11:38:15 1   1         1        1       ต่ำ    14  1      0    \n",
              "3 26/7/2024, 11:38:26 0   1         1        1       ต่ำ    50  1      0    \n",
              "4 26/7/2024, 11:38:36 0   0         1        0       ต่ำ    40  1      0    \n",
              "5 26/7/2024, 11:38:49 1   1         0        0       ต่ำ    50  0      0    \n",
              "6 26/7/2024, 11:39:08 1   1         1        1       กลาง  10  2      1    "
            ]
          },
          "metadata": {}
        }
      ]
    },
    {
      "cell_type": "code",
      "source": [
        "names(mydata)"
      ],
      "metadata": {
        "colab": {
          "base_uri": "https://localhost:8080/",
          "height": 34
        },
        "id": "OskcY8c5vRJe",
        "outputId": "b6e5ee2e-5fd7-4033-9168-5aad0238f124"
      },
      "execution_count": null,
      "outputs": [
        {
          "output_type": "display_data",
          "data": {
            "text/html": [
              "<style>\n",
              ".list-inline {list-style: none; margin:0; padding: 0}\n",
              ".list-inline>li {display: inline-block}\n",
              ".list-inline>li:not(:last-child)::after {content: \"\\00b7\"; padding: 0 .5ex}\n",
              "</style>\n",
              "<ol class=list-inline><li>'Time'</li><li>'Sex'</li><li>'cigaratte'</li><li>'Drinking'</li><li>'Disease'</li><li>'Blood'</li><li>'BMI'</li><li>'Stress'</li><li>'ฺBlood'</li></ol>\n"
            ],
            "text/markdown": "1. 'Time'\n2. 'Sex'\n3. 'cigaratte'\n4. 'Drinking'\n5. 'Disease'\n6. 'Blood'\n7. 'BMI'\n8. 'Stress'\n9. 'ฺBlood'\n\n\n",
            "text/latex": "\\begin{enumerate*}\n\\item 'Time'\n\\item 'Sex'\n\\item 'cigaratte'\n\\item 'Drinking'\n\\item 'Disease'\n\\item 'Blood'\n\\item 'BMI'\n\\item 'Stress'\n\\item 'ฺBlood'\n\\end{enumerate*}\n",
            "text/plain": [
              "[1] \"Time\"      \"Sex\"       \"cigaratte\" \"Drinking\"  \"Disease\"   \"Blood\"    \n",
              "[7] \"BMI\"       \"Stress\"    \"ฺBlood\"    "
            ]
          },
          "metadata": {}
        }
      ]
    },
    {
      "cell_type": "markdown",
      "source": [],
      "metadata": {
        "id": "15Q7x2sMvaw5"
      }
    },
    {
      "cell_type": "code",
      "source": [
        "t.test(as.numeric(mydata[,9]),conf.level =0.95)"
      ],
      "metadata": {
        "colab": {
          "base_uri": "https://localhost:8080/",
          "height": 208
        },
        "id": "SiJSpN3zuF9X",
        "outputId": "0feea06a-2c13-4858-8274-fc1852637147"
      },
      "execution_count": null,
      "outputs": [
        {
          "output_type": "display_data",
          "data": {
            "text/plain": [
              "\n",
              "\tOne Sample t-test\n",
              "\n",
              "data:  as.numeric(mydata[, 9])\n",
              "t = 1.964, df = 9, p-value = 0.08113\n",
              "alternative hypothesis: true mean is not equal to 0\n",
              "95 percent confidence interval:\n",
              " -0.04555021  0.64555021\n",
              "sample estimates:\n",
              "mean of x \n",
              "      0.3 \n"
            ]
          },
          "metadata": {}
        }
      ]
    },
    {
      "cell_type": "code",
      "source": [
        "#### Hypothesis of One Sample Mean\n",
        "#alternative = c(\"two.sided\", \"less\", \"greater\")\n",
        "t.test((mydata[,9]),mu=25,alternative = c(\"less\"))"
      ],
      "metadata": {
        "colab": {
          "base_uri": "https://localhost:8080/",
          "height": 208
        },
        "id": "NoPDDvCuxxuG",
        "outputId": "dffce618-8f2b-49fd-e9e0-a628ced0be68"
      },
      "execution_count": null,
      "outputs": [
        {
          "output_type": "display_data",
          "data": {
            "text/plain": [
              "\n",
              "\tOne Sample t-test\n",
              "\n",
              "data:  (mydata[, 9])\n",
              "t = -161.7, df = 9, p-value < 2.2e-16\n",
              "alternative hypothesis: true mean is less than 25\n",
              "95 percent confidence interval:\n",
              "      -Inf 0.5800126\n",
              "sample estimates:\n",
              "mean of x \n",
              "      0.3 \n"
            ]
          },
          "metadata": {}
        }
      ]
    },
    {
      "cell_type": "markdown",
      "source": [
        "\n",
        "\n",
        "---\n",
        "\n"
      ],
      "metadata": {
        "id": "UBvoKfUv2NZr"
      }
    },
    {
      "cell_type": "markdown",
      "source": [
        "**จงทดสอบว่าค่าเฉลี่ยของระดับความดันเลือด เท่ากับ 1.2 หรือไม่ ที่ระดับนัยสำคัญ 0.05\n",
        "**"
      ],
      "metadata": {
        "id": "eXfCurCL1lmp"
      }
    },
    {
      "cell_type": "code",
      "source": [
        "#### Hypothesis of One Sample Mean\n",
        "#alternative = c(\"two.sided\", \"less\", \"greater\")\n",
        "t.test(as.numeric(mydata$Blood),mu=1.2,alternative = c(\"two.sided\"))"
      ],
      "metadata": {
        "colab": {
          "base_uri": "https://localhost:8080/",
          "height": 349
        },
        "id": "VlZEEA283CL_",
        "outputId": "f923ba9b-7caa-41a7-aa5b-8d6395c525b0"
      },
      "execution_count": null,
      "outputs": [
        {
          "output_type": "stream",
          "name": "stderr",
          "text": [
            "Warning message in t.test(as.numeric(mydata$Blood), mu = 1.2, alternative = c(\"two.sided\")):\n",
            "“NAs introduced by coercion”\n"
          ]
        },
        {
          "output_type": "error",
          "ename": "ERROR",
          "evalue": "Error in t.test.default(as.numeric(mydata$Blood), mu = 1.2, alternative = c(\"two.sided\")): not enough 'x' observations\n",
          "traceback": [
            "Error in t.test.default(as.numeric(mydata$Blood), mu = 1.2, alternative = c(\"two.sided\")): not enough 'x' observations\nTraceback:\n",
            "1. t.test.default(as.numeric(mydata$Blood), mu = 1.2, alternative = c(\"two.sided\"))",
            "2. stop(\"not enough 'x' observations\")",
            "3. .handleSimpleError(function (cnd) \n . {\n .     watcher$capture_plot_and_output()\n .     cnd <- sanitize_call(cnd)\n .     watcher$push(cnd)\n .     switch(on_error, continue = invokeRestart(\"eval_continue\"), \n .         stop = invokeRestart(\"eval_stop\"), error = invokeRestart(\"eval_error\", \n .             cnd))\n . }, \"not enough 'x' observations\", base::quote(t.test.default(as.numeric(mydata$Blood), \n .     mu = 1.2, alternative = c(\"two.sided\"))))"
          ]
        }
      ]
    },
    {
      "cell_type": "code",
      "source": [
        "t.test(data~Group)"
      ],
      "metadata": {
        "id": "99RfHijg1xMC"
      },
      "execution_count": null,
      "outputs": []
    },
    {
      "cell_type": "markdown",
      "source": [
        "\n",
        "\n",
        "---\n",
        "\n"
      ],
      "metadata": {
        "id": "9CAIWJa5TIJ9"
      }
    },
    {
      "cell_type": "markdown",
      "source": [
        "**ครั้งที่ 13**"
      ],
      "metadata": {
        "id": "7axJ1txaZ6hM"
      }
    },
    {
      "cell_type": "code",
      "source": [
        "t.test(BMI~Sex ,data=mydata,var.equal = TRUE)"
      ],
      "metadata": {
        "id": "BR3IfnfW6gIs",
        "colab": {
          "base_uri": "https://localhost:8080/",
          "height": 208
        },
        "outputId": "5e9fa14b-ec4d-4e11-f70a-12b549f27ba1"
      },
      "execution_count": null,
      "outputs": [
        {
          "output_type": "display_data",
          "data": {
            "text/plain": [
              "\n",
              "\tTwo Sample t-test\n",
              "\n",
              "data:  BMI by Sex\n",
              "t = 0.69951, df = 8, p-value = 0.5041\n",
              "alternative hypothesis: true difference in means between group 0 and group 1 is not equal to 0\n",
              "95 percent confidence interval:\n",
              " -24.60666  46.03523\n",
              "sample estimates:\n",
              "mean in group 0 mean in group 1 \n",
              "       45.00000        34.28571 \n"
            ]
          },
          "metadata": {}
        }
      ]
    },
    {
      "cell_type": "code",
      "source": [
        "t.test(BMI ~ Cigarette, data=mydata, var.equal=TRUE)"
      ],
      "metadata": {
        "colab": {
          "base_uri": "https://localhost:8080/",
          "height": 384
        },
        "id": "9nWuxGGAUv_N",
        "outputId": "a8a7a638-ab33-406e-a24b-46944c0c4482"
      },
      "execution_count": null,
      "outputs": [
        {
          "output_type": "error",
          "ename": "ERROR",
          "evalue": "Error in eval(predvars, data, env): object 'Cigarette' not found\n",
          "traceback": [
            "Error in eval(predvars, data, env): object 'Cigarette' not found\nTraceback:\n",
            "1. t.test.formula(BMI ~ Cigarette, data = mydata, var.equal = TRUE)",
            "2. eval(m, parent.frame())",
            "3. eval(m, parent.frame())",
            "4. stats::model.frame(formula = BMI ~ Cigarette, data = mydata)",
            "5. model.frame.default(formula = BMI ~ Cigarette, data = mydata)",
            "6. eval(predvars, data, env)",
            "7. eval(predvars, data, env)",
            "8. .handleSimpleError(function (cnd) \n . {\n .     watcher$capture_plot_and_output()\n .     cnd <- sanitize_call(cnd)\n .     watcher$push(cnd)\n .     switch(on_error, continue = invokeRestart(\"eval_continue\"), \n .         stop = invokeRestart(\"eval_stop\"), error = invokeRestart(\"eval_error\", \n .             cnd))\n . }, \"object 'Cigarette' not found\", base::quote(eval(predvars, \n .     data, env)))"
          ]
        }
      ]
    },
    {
      "cell_type": "code",
      "source": [
        "t.test(BMI~Drinkin,data=mydata,alternative = c('less'),var.equal = TRUE)"
      ],
      "metadata": {
        "colab": {
          "base_uri": "https://localhost:8080/",
          "height": 401
        },
        "id": "t7JSWxRCVWat",
        "outputId": "52f5d934-9fb8-4192-8748-ff69dfc32df3"
      },
      "execution_count": null,
      "outputs": [
        {
          "output_type": "error",
          "ename": "ERROR",
          "evalue": "Error in eval(predvars, data, env): object 'Drinkin' not found\n",
          "traceback": [
            "Error in eval(predvars, data, env): object 'Drinkin' not found\nTraceback:\n",
            "1. t.test.formula(BMI ~ Drinkin, data = mydata, alternative = c(\"less\"), \n .     var.equal = TRUE)",
            "2. eval(m, parent.frame())",
            "3. eval(m, parent.frame())",
            "4. stats::model.frame(formula = BMI ~ Drinkin, data = mydata)",
            "5. model.frame.default(formula = BMI ~ Drinkin, data = mydata)",
            "6. eval(predvars, data, env)",
            "7. eval(predvars, data, env)",
            "8. .handleSimpleError(function (cnd) \n . {\n .     watcher$capture_plot_and_output()\n .     cnd <- sanitize_call(cnd)\n .     watcher$push(cnd)\n .     switch(on_error, continue = invokeRestart(\"eval_continue\"), \n .         stop = invokeRestart(\"eval_stop\"), error = invokeRestart(\"eval_error\", \n .             cnd))\n . }, \"object 'Drinkin' not found\", base::quote(eval(predvars, data, \n .     env)))"
          ]
        }
      ]
    },
    {
      "cell_type": "code",
      "source": [
        "model<-aov(BMI~Stess,data=mydata)\n",
        "summary(model)"
      ],
      "metadata": {
        "id": "YuE4-WfuVlNp"
      },
      "execution_count": null,
      "outputs": []
    },
    {
      "cell_type": "code",
      "source": [
        "install.packages(\"DescTools\")"
      ],
      "metadata": {
        "id": "JbqI7pOTWIKq"
      },
      "execution_count": null,
      "outputs": []
    },
    {
      "cell_type": "code",
      "source": [
        "library(DescTools)"
      ],
      "metadata": {
        "id": "dF9149G1WSVA"
      },
      "execution_count": null,
      "outputs": []
    },
    {
      "cell_type": "code",
      "source": [
        "PostHocTest(model,method=\"lsd\")"
      ],
      "metadata": {
        "id": "oYJTd41vWXfC",
        "colab": {
          "base_uri": "https://localhost:8080/",
          "height": 245
        },
        "outputId": "4db639c2-a800-4f15-912f-62d51a9565fb"
      },
      "execution_count": null,
      "outputs": [
        {
          "output_type": "error",
          "ename": "ERROR",
          "evalue": "Error: object 'model' not found\n",
          "traceback": [
            "Error: object 'model' not found\nTraceback:\n",
            "1. .handleSimpleError(function (cnd) \n . {\n .     watcher$capture_plot_and_output()\n .     cnd <- sanitize_call(cnd)\n .     watcher$push(cnd)\n .     switch(on_error, continue = invokeRestart(\"eval_continue\"), \n .         stop = invokeRestart(\"eval_stop\"), error = invokeRestart(\"eval_error\", \n .             cnd))\n . }, \"object 'model' not found\", base::quote(eval(expr, envir)))"
          ]
        }
      ]
    }
  ]
}